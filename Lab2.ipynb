{
 "cells": [
  {
   "cell_type": "markdown",
   "metadata": {},
   "source": [
    "# Laboratorio 2 - Agrupación"
   ]
  },
  {
   "cell_type": "markdown",
   "metadata": {},
   "source": [
    "### Integrantes\n",
    "\n",
    "1. Cesar Avellaneda, 202214746, c.avellanedac@uniandes.edu.co.\n",
    "2. Santiago Tinjaca, 202215991, s.tinjaca@uniandes.edu.co.\n",
    "3. Jorge Bustamante, 202210581, j.bustamantep@uniandes.edu.co."
   ]
  },
  {
   "cell_type": "markdown",
   "metadata": {},
   "source": [
    "Este notebook tiene los siguientes elementos: \n",
    "1. Cargue de los datos.\n",
    "\n",
    "2. Entendimiento de los datos: Describir las características más relevantes de los datos y todo el perfilamiento de datos, incluir el análisis de calidad de datos y hacer una preselección de las variables más importantes para la etapa de modelado.\n",
    "\n",
    "3. Preparación de datos: Solucionar los problemas de calidad de datos previamente identificados que afecten el modelo a construir. Además, debe aplicar todos los proceso de preprocesamiento de datos necesarios para la construcción del modelo de agrupación.\n",
    "\n",
    "4. Modelado: Utilizando las variables previamente seleccionadas, construir un modelo de agrupación que tenga siluetas cercanas a 1.\n",
    "\n",
    "5. Evaluación cuantitativa: A partir de las métricas seleccionadas para evaluar y seleccionar el mejor modelo, explicar el resultado obtenido desde el punto de vista cuantitativo. Contestar a la pregunta: ¿Su equipo recomienda utilizar en producción el modelo de agrupación para optimizar tiempos? ¿Por qué? En caso de no recomendar el uso del modelo, ¿qué recomendaciones haría para continuar iterando con el objetivo de la construcción de un mejor modelo?\n",
    "\n",
    "6. Evaluación cualitativa: Interpretación de los grupos obtenidos y relación entre estos y el objetivo de la organización. Verificar si es posible usar los datos obtenidos para optimizar la toma de decisiones."
   ]
  },
  {
   "cell_type": "markdown",
   "metadata": {},
   "source": [
    "### Entendimiento del negocio:\n",
    "El caso de estudio es de un hospital que haciendo uso de la metodología KTAS quiere solicitar un modelo que pueda agrupar pacientes por ciertas características en común y le ayude al hospital a optimizar sus tiempos de respuesta.\n",
    "### Enfoque Analítico:\n",
    "En este laboratorio vamos a hacer un modelo predictivo usando un aprendizaje supervisado y un modelo de agrupación para hacer uso de las condiciones de llegada de los pacientes y optimizar las decisiones tomadas."
   ]
  },
  {
   "cell_type": "markdown",
   "metadata": {},
   "source": [
    "### 1. Carga de datos"
   ]
  },
  {
   "cell_type": "code",
   "execution_count": 440,
   "metadata": {},
   "outputs": [],
   "source": [
    "import pandas as pd\n",
    "import numpy as np\n",
    "import matplotlib.pyplot as plt\n",
    "import seaborn as sns; sns.set()  # for plot styling\n",
    "\n",
    "from sklearn.preprocessing import StandardScaler\n",
    "from sklearn.cluster import KMeans\n",
    "from sklearn.metrics import silhouette_samples, silhouette_score\n",
    "from sklearn.preprocessing import MinMaxScaler\n",
    "\n",
    "from matplotlib import cm\n",
    "from mpl_toolkits.mplot3d import Axes3D # for 3D plots"
   ]
  },
  {
   "cell_type": "code",
   "execution_count": 441,
   "metadata": {},
   "outputs": [],
   "source": [
    "datos=pd.read_csv('./data/202420_Laboratorio 2 - Agrupación_202420_Laboratorio_2_-_Agrupación_data.csv', sep=',', encoding = 'utf-8')"
   ]
  },
  {
   "cell_type": "markdown",
   "metadata": {},
   "source": [
    "### 2. Entendimiento de los datos"
   ]
  },
  {
   "cell_type": "markdown",
   "metadata": {},
   "source": [
    "#### 2.1 Perfilamiento de los datos"
   ]
  },
  {
   "cell_type": "code",
   "execution_count": null,
   "metadata": {},
   "outputs": [],
   "source": [
    "datos.shape"
   ]
  },
  {
   "cell_type": "code",
   "execution_count": null,
   "metadata": {},
   "outputs": [],
   "source": [
    "datos.dtypes"
   ]
  },
  {
   "cell_type": "code",
   "execution_count": null,
   "metadata": {},
   "outputs": [],
   "source": [
    "datos.sample(5)"
   ]
  },
  {
   "cell_type": "code",
   "execution_count": null,
   "metadata": {},
   "outputs": [],
   "source": [
    "datos.info()"
   ]
  },
  {
   "cell_type": "code",
   "execution_count": null,
   "metadata": {},
   "outputs": [],
   "source": [
    "datos.describe()"
   ]
  },
  {
   "cell_type": "code",
   "execution_count": null,
   "metadata": {},
   "outputs": [],
   "source": [
    "#Visualización de todas las variables numéricas\n",
    "fig=plt.figure(figsize=(20,8))\n",
    "ax = sns.boxplot(data=datos, orient=\"v\")"
   ]
  },
  {
   "cell_type": "code",
   "execution_count": null,
   "metadata": {},
   "outputs": [],
   "source": [
    "datos[\"Lesion_stan\"]=datos[\"Lesion\"].apply(lambda x:0 if x == 2 else x)\n",
    "datos[\"Lesion_stan\"].value_counts()\n",
    "name_cols_float = datos.select_dtypes(include = ['float']).columns\n",
    "name_cols_int = datos.select_dtypes(include = ['int64']).columns\n",
    "name_cols_int"
   ]
  },
  {
   "cell_type": "code",
   "execution_count": null,
   "metadata": {},
   "outputs": [],
   "source": [
    "fig=plt.figure(figsize=(20,8))\n",
    "ax = sns.boxplot(data=datos[name_cols_float], orient=\"v\")"
   ]
  },
  {
   "cell_type": "code",
   "execution_count": null,
   "metadata": {},
   "outputs": [],
   "source": [
    "fig=plt.figure(figsize=(20,8))\n",
    "ax = sns.boxplot(data=datos[name_cols_int], orient=\"v\")"
   ]
  },
  {
   "cell_type": "code",
   "execution_count": null,
   "metadata": {},
   "outputs": [],
   "source": [
    "name_cols_non_number = datos.select_dtypes(include = ['object']).columns\n",
    "name_cols_non_number"
   ]
  },
  {
   "cell_type": "code",
   "execution_count": null,
   "metadata": {},
   "outputs": [],
   "source": [
    "datos.Queja_Principal.sample(10)"
   ]
  },
  {
   "cell_type": "code",
   "execution_count": null,
   "metadata": {},
   "outputs": [],
   "source": [
    "datos[name_cols_non_number].describe()"
   ]
  },
  {
   "cell_type": "code",
   "execution_count": null,
   "metadata": {},
   "outputs": [],
   "source": [
    "datos[name_cols_non_number].sample(15)"
   ]
  },
  {
   "cell_type": "markdown",
   "metadata": {},
   "source": [
    "### 2.2 Análisis de calidad de datos"
   ]
  },
  {
   "cell_type": "markdown",
   "metadata": {},
   "source": [
    "#### 2.2.1 Análisis de completitud"
   ]
  },
  {
   "cell_type": "code",
   "execution_count": null,
   "metadata": {},
   "outputs": [],
   "source": [
    "datos.isnull().sum() / datos.shape[0]"
   ]
  },
  {
   "cell_type": "markdown",
   "metadata": {},
   "source": [
    "#### 2.2.2 Unicidad\n",
    "\n",
    "No podemos eliminar los datos sin más porque nada nos asegura que sean duplicados, puede ser que hayan dos pacientes que tengan los mismos problemas al momento de llegar al hospital."
   ]
  },
  {
   "cell_type": "code",
   "execution_count": null,
   "metadata": {},
   "outputs": [],
   "source": [
    "datos.duplicated(keep = False).sum()"
   ]
  },
  {
   "cell_type": "markdown",
   "metadata": {},
   "source": [
    "#### 2.2.3 Consistencia"
   ]
  },
  {
   "cell_type": "code",
   "execution_count": null,
   "metadata": {},
   "outputs": [],
   "source": [
    "datos.Estado_Mental.value_counts()"
   ]
  },
  {
   "cell_type": "code",
   "execution_count": null,
   "metadata": {},
   "outputs": [],
   "source": [
    "#Visualización de la variable dolor registrado por la enfermera\n",
    "datos.dolor_NRS.value_counts()"
   ]
  },
  {
   "cell_type": "code",
   "execution_count": null,
   "metadata": {},
   "outputs": [],
   "source": [
    "datos.KTAS_experto.value_counts()"
   ]
  },
  {
   "cell_type": "markdown",
   "metadata": {},
   "source": [
    "Como podemos observar, dolor_NRS tiene un problema. Hay datos con el valor #BOÞ!, los cuales representan una gran cantida del total."
   ]
  },
  {
   "cell_type": "markdown",
   "metadata": {},
   "source": [
    "#### 2.2.4 Validez"
   ]
  },
  {
   "cell_type": "code",
   "execution_count": null,
   "metadata": {},
   "outputs": [],
   "source": [
    "datos['KTAS_experto'].unique()"
   ]
  },
  {
   "cell_type": "code",
   "execution_count": null,
   "metadata": {},
   "outputs": [],
   "source": [
    "datos['dolor_NRS'].unique()"
   ]
  },
  {
   "cell_type": "code",
   "execution_count": null,
   "metadata": {},
   "outputs": [],
   "source": [
    "datos['Estado_Mental'].unique()"
   ]
  },
  {
   "cell_type": "markdown",
   "metadata": {},
   "source": [
    "Como podemos observar, la validez de estos datos es correcta, el único problema como mencionamos anteriormente está en dolor_NRS"
   ]
  },
  {
   "cell_type": "markdown",
   "metadata": {},
   "source": [
    "### 3. Preparación de datos"
   ]
  },
  {
   "cell_type": "markdown",
   "metadata": {},
   "source": [
    "Dato que los datos atipicos de duración de instancia en minutos están bastante arriba a diferencia de los demás registros, decidimos escoger solo los datos que están por debajo de 850. "
   ]
  },
  {
   "cell_type": "code",
   "execution_count": 463,
   "metadata": {},
   "outputs": [],
   "source": [
    "datos=datos[datos[\"Duracion_Estancia_Min\"]<=850]"
   ]
  },
  {
   "cell_type": "code",
   "execution_count": null,
   "metadata": {},
   "outputs": [],
   "source": [
    "def calcularEWS(registro):\n",
    "    total = 0\n",
    "    \n",
    "    # Frecuencia respiratoria (RR)\n",
    "    if registro['RR'] <= 8:\n",
    "        total += 2\n",
    "    elif 9 <= registro['RR'] <= 14:\n",
    "        total += 0\n",
    "    elif 15 <= registro['RR'] <= 20:\n",
    "        total += 1\n",
    "    elif 21 <= registro['RR'] <= 29:\n",
    "        total += 2\n",
    "    elif registro['RR'] >= 30:\n",
    "        total += 3\n",
    "    \n",
    "    # Presión arterial sistólica (SBP)\n",
    "    if registro['SBP'] <= 70:\n",
    "        total += 3\n",
    "    elif 71 <= registro['SBP'] <= 80:\n",
    "        total += 2\n",
    "    elif 81 <= registro['SBP'] <= 100:\n",
    "        total += 1\n",
    "    elif 101 <= registro['SBP'] <= 199:\n",
    "        total += 0\n",
    "    elif registro['SBP'] >= 200:\n",
    "        total += 2\n",
    "\n",
    "    # Frecuencia cardíaca (HR)\n",
    "    if registro['HR'] <= 40:\n",
    "        total += 2\n",
    "    elif 41 <= registro['HR'] <= 50:\n",
    "        total += 1\n",
    "    elif 51 <= registro['HR'] <= 100:\n",
    "        total += 0\n",
    "    elif 101 <= registro['HR'] <= 110:\n",
    "        total += 1\n",
    "    elif 111 <= registro['HR'] <= 129:\n",
    "        total += 2\n",
    "    elif registro['HR'] >= 130:\n",
    "        total += 3\n",
    "\n",
    "    # Temperatura corporal (BT)\n",
    "    if registro['BT'] < 35.0:\n",
    "        total += 2\n",
    "    elif 35.0 <= registro['BT'] <= 38.4:\n",
    "        total += 0\n",
    "    elif 38.5 <= registro['BT']:\n",
    "        total += 2\n",
    "\n",
    "    # Saturación de oxígeno (Saturacion)\n",
    "    if registro['Saturacion'] <= 91:\n",
    "        total += 3\n",
    "    elif 92 <= registro['Saturacion'] <= 93:\n",
    "        total += 2\n",
    "    elif 94 <= registro['Saturacion'] <= 95:\n",
    "        total += 1\n",
    "\n",
    "    # Nivel de conciencia\n",
    "    if registro['Estado_Mental'] == 1:\n",
    "        total += 0\n",
    "    elif registro['Estado_Mental'] == 2:\n",
    "        total += 1\n",
    "    elif registro['Estado_Mental'] == 3:\n",
    "        total += 2\n",
    "    elif registro['Estado_Mental'] == 4:\n",
    "        total += 3\n",
    "    return total\n",
    "\n",
    "datos['EWS'] = datos.apply(calcularEWS, axis=1)\n",
    "print(datos.head())"
   ]
  },
  {
   "cell_type": "code",
   "execution_count": null,
   "metadata": {},
   "outputs": [],
   "source": [
    "fig=plt.figure(figsize=(20,8))\n",
    "ax = sns.boxplot(data=datos[name_cols_int], orient=\"v\")"
   ]
  },
  {
   "cell_type": "markdown",
   "metadata": {},
   "source": [
    "Se escogen las variables KTAS_experto, Estado_Mental y dolor_NRS porque se cree que podrían agrupar a los pacientes de una buena forma. Dado que la valoración dada por el experto puede relacionarse con el nivel de dolor y el estado mental en el que llega el paciente de manera que, si el dolor registrado por la enfermera es alto y el estado mental del paciente es malo, la valoración del experto será más o menos grave."
   ]
  },
  {
   "cell_type": "code",
   "execution_count": null,
   "metadata": {},
   "outputs": [],
   "source": [
    "\n",
    "gravedad_dict = {\n",
    "    1: 1,  # Alta a Domicilio\n",
    "    2: 2,  # Admisión a Sala\n",
    "    7: 3,  # Cirugía\n",
    "    4: 4,  # Alta a otra Institución de Cuidados\n",
    "    5: 5,  # Transferencia a otro Hospital\n",
    "    3: 6,  # Admisión a UCI\n",
    "    6: 7   # Muerte\n",
    "}\n",
    "\n",
    "# Crear una nueva columna con la gravedad ajustada\n",
    "datos['gravedad'] = datos['Disposicion'].map(gravedad_dict)\n",
    "\n",
    "datos['dolor_NRS'] = pd.to_numeric(datos['dolor_NRS'], errors='coerce')\n",
    "datos['dolor_NRS'] = datos['dolor_NRS'].fillna(0)\n",
    "datos[\"Duracion_KTAS_Min\"] = datos[\"Duracion_KTAS_Min\"].str.replace(',', '.').astype('float64')\n"
   ]
  },
  {
   "cell_type": "code",
   "execution_count": null,
   "metadata": {},
   "outputs": [],
   "source": [
    "\n",
    "name_cols = ['KTAS_experto', 'EWS' ,'dolor_NRS']\n",
    "datos_cols_selec = datos[name_cols].copy()\n",
    "datos_cols_selec.describe()\n"
   ]
  },
  {
   "cell_type": "markdown",
   "metadata": {},
   "source": [
    "Problemas de calidad:\n",
    "\n",
    "Primero el dolor reportado por la enfermera, el cual tiene un 44% de sus entradas en null.\n",
    "Nos dimos cuenta de que estas se correspondían cuando el paciente no tenía dolor, por lo que las asignamos a 0."
   ]
  },
  {
   "cell_type": "code",
   "execution_count": null,
   "metadata": {},
   "outputs": [],
   "source": [
    "\n",
    "datos_cols_selec = datos_cols_selec.reset_index(drop=True)\n",
    "datos_cols_selec.describe()\n"
   ]
  },
  {
   "cell_type": "code",
   "execution_count": null,
   "metadata": {},
   "outputs": [],
   "source": [
    "fig=plt.figure(figsize=(20,10))\n",
    "ax = sns.boxplot(data=datos_cols_selec, orient=\"v\")"
   ]
  },
  {
   "cell_type": "code",
   "execution_count": 600,
   "metadata": {},
   "outputs": [],
   "source": [
    "# sns.pairplot(data=datos_cols_selec, hue=\"dolor_NRS\")"
   ]
  },
  {
   "cell_type": "markdown",
   "metadata": {},
   "source": [
    "### 4. Modelamiento"
   ]
  },
  {
   "cell_type": "code",
   "execution_count": null,
   "metadata": {},
   "outputs": [],
   "source": [
    "mms = MinMaxScaler()\n",
    "\n",
    "\n",
    "datos_prep_norm = datos_cols_selec.copy()\n",
    "datos_prep_norm[name_cols] = mms.fit_transform(datos_cols_selec[name_cols])\n",
    "datos_prep_norm=datos_prep_norm[name_cols]\n",
    "saved_cols = datos_prep_norm.columns\n",
    "\n",
    "datos_prep_norm = pd.DataFrame(datos_prep_norm, columns =saved_cols)\n",
    "print(datos_prep_norm.head())"
   ]
  },
  {
   "cell_type": "code",
   "execution_count": null,
   "metadata": {},
   "outputs": [],
   "source": [
    "datos_prep_norm.describe()"
   ]
  },
  {
   "cell_type": "code",
   "execution_count": null,
   "metadata": {},
   "outputs": [],
   "source": [
    "fig=plt.figure(figsize=(20,8))\n",
    "ax = sns.boxplot(data=datos_prep_norm, orient=\"v\") "
   ]
  },
  {
   "cell_type": "markdown",
   "metadata": {},
   "source": [
    "#### 4.1 Encontramos el número óptimo de clusters con el método del codo"
   ]
  },
  {
   "cell_type": "code",
   "execution_count": 604,
   "metadata": {},
   "outputs": [],
   "source": [
    "def plot_distortion(data,\n",
    "                    k_min=1, \n",
    "                    k_max=11,\n",
    "                    ylabel = 'Distortion',\n",
    "                    xlabel = 'Number of clusters',\n",
    "                    title = 'Distortion Plot'):\n",
    "    '''\n",
    "    Graficar el codo de los clusters\n",
    "    \n",
    "    Parametros\n",
    "    ----------\n",
    "    data : np.array\n",
    "        El arreglo con los datos\n",
    "    k_min : int\n",
    "        Valor mínimo para k\n",
    "    k_max : int\n",
    "        Valor máximo para k\n",
    "    xlabel : string\n",
    "        La etiqueta del eje x\n",
    "    ylabel  string\n",
    "        La etiqueta del eje y    \n",
    "    title : string\n",
    "        El titulo de la gráfica  \n",
    "    '''\n",
    "    distortions = []\n",
    "    for i in range(k_min, k_max):\n",
    "        km = KMeans(n_clusters=i,\n",
    "                 init='k-means++',\n",
    "                 n_init=10,\n",
    "                 max_iter=300,\n",
    "                 random_state=0)\n",
    "        km.fit(data)\n",
    "        distortions.append(km.inertia_)\n",
    "    plt.plot(range(k_min,k_max), distortions, marker='o')\n",
    "    plt.xlabel(xlabel)\n",
    "    plt.ylabel(ylabel)\n",
    "    plt.show()"
   ]
  },
  {
   "cell_type": "code",
   "execution_count": null,
   "metadata": {},
   "outputs": [],
   "source": [
    "plot_distortion(datos_prep_norm,1,11)"
   ]
  },
  {
   "cell_type": "markdown",
   "metadata": {},
   "source": [
    "#### 4.2 Construir el nuevo modelo con el número de clusters obtenido"
   ]
  },
  {
   "cell_type": "code",
   "execution_count": 606,
   "metadata": {},
   "outputs": [],
   "source": [
    "N_clusters=2\n",
    "kmeans = KMeans(n_clusters=N_clusters, random_state=0) \n",
    "kmeans = kmeans.fit(datos_prep_norm)"
   ]
  },
  {
   "cell_type": "markdown",
   "metadata": {},
   "source": [
    "#### 4.3 Visualizar el resultado"
   ]
  },
  {
   "cell_type": "markdown",
   "metadata": {},
   "source": [
    "#### 4.3.1 Graficar cantidad de registros por agrupación"
   ]
  },
  {
   "cell_type": "code",
   "execution_count": null,
   "metadata": {},
   "outputs": [],
   "source": [
    "labels = kmeans.labels_\n",
    "datos_prep_norm['Cluster'] = labels\n",
    "\n",
    "cluster_distrib = datos_prep_norm['Cluster'].value_counts()\n",
    "\n",
    "fig=plt.figure(figsize=(12,8))\n",
    "sns.barplot(x=cluster_distrib.index, y=cluster_distrib.values, color='b')"
   ]
  },
  {
   "cell_type": "code",
   "execution_count": null,
   "metadata": {},
   "outputs": [],
   "source": [
    "cols_number = datos_prep_norm.to_numpy()\n",
    "datos_prep_norm.groupby('Cluster').count()"
   ]
  },
  {
   "cell_type": "markdown",
   "metadata": {},
   "source": [
    "#### 4.3.2  Graficar comportamiento en parejas de atributos de acuerdo a la agrupación"
   ]
  },
  {
   "cell_type": "code",
   "execution_count": null,
   "metadata": {},
   "outputs": [],
   "source": [
    "sns.pairplot(data=datos_prep_norm, hue=\"Cluster\", palette=\"Dark2\")"
   ]
  },
  {
   "cell_type": "markdown",
   "metadata": {},
   "source": [
    "####  4.3.3  Graficar dos atributos y ver la relación con las agrupaciones"
   ]
  },
  {
   "cell_type": "code",
   "execution_count": null,
   "metadata": {},
   "outputs": [],
   "source": [
    "plt.scatter(cols_number[kmeans.labels_ == 0, 0], cols_number[kmeans.labels_ == 0, 1], s = 100, marker='v', c = 'red', label = 'Cluster 1')\n",
    "plt.scatter(cols_number[kmeans.labels_ == 1, 0], cols_number[kmeans.labels_ == 1, 1], s = 100, marker='o', c = 'blue', label = 'Cluster 2')\n",
    "plt.scatter(cols_number[kmeans.labels_ == 2, 0], cols_number[kmeans.labels_ == 2, 1], s = 100, marker='*', c = 'green', label = 'Cluster 3')\n",
    "\n",
    "plt.scatter(kmeans.cluster_centers_[:, 0], kmeans.cluster_centers_[:, 1], s = 100, c = 'yellow', label = 'Centroids')\n",
    "plt.title('Clusters')\n",
    "plt.xlabel(name_cols[0])\n",
    "plt.ylabel(name_cols[1])\n",
    "plt.legend()\n",
    "plt.show()"
   ]
  },
  {
   "cell_type": "markdown",
   "metadata": {},
   "source": [
    "#### 4.3.4 Evaluar la calidad de los clústeres obtenidos"
   ]
  },
  {
   "cell_type": "code",
   "execution_count": 611,
   "metadata": {},
   "outputs": [],
   "source": [
    "def plot_silhouette(data, \n",
    "                    labels,\n",
    "                   ylabel = 'Grupos',\n",
    "                   xlabel = \"Coeficiente de silueta\",\n",
    "                   title = 'Gráfica de silueta'):\n",
    "    '''\n",
    "    Graficar la silueta de los clusters\n",
    "    \n",
    "    Parametros\n",
    "    ----------\n",
    "    data : np.array\n",
    "        El arreglo con los datos\n",
    "    labels : np.array\n",
    "        El arreglo con las etiquetas correspondientes\n",
    "    ylabel  string\n",
    "        La etiqueta del eje y\n",
    "    xlabel : string\n",
    "        La etiqueta del eje x\n",
    "    title : string\n",
    "        El titulo de la gráfica        \n",
    "    '''\n",
    "    cluster_labels = np.unique(labels)\n",
    "    print(cluster_labels)\n",
    "    n_clusters = cluster_labels.shape[0]\n",
    "    silhouette_vals = silhouette_samples(data,\n",
    "                                        labels,\n",
    "                                        metric='euclidean')\n",
    "    y_ax_lower, y_ax_upper = 0, 0\n",
    "    yticks = []\n",
    "    for i, c in enumerate(cluster_labels):\n",
    "        c_silhouette_vals = silhouette_vals[labels == c]\n",
    "        c_silhouette_vals.sort()\n",
    "        y_ax_upper += len(c_silhouette_vals)\n",
    "        color = cm.jet(float(i) / n_clusters)\n",
    "        plt.barh(range(y_ax_lower, y_ax_upper),\n",
    "                        c_silhouette_vals,\n",
    "                        height=1.0,\n",
    "                        edgecolor='none',\n",
    "                        color=color)\n",
    "        yticks.append((y_ax_lower + y_ax_upper) / 2.)\n",
    "        y_ax_lower += len(c_silhouette_vals)\n",
    "    silhouette_avg = np.mean(silhouette_vals)\n",
    "    plt.axvline(silhouette_avg,\n",
    "                color=\"red\",\n",
    "                linestyle=\"--\")\n",
    "    plt.yticks(yticks, cluster_labels+1)\n",
    "    plt.ylabel(ylabel)\n",
    "    plt.xlabel(xlabel)\n",
    "    plt.title(title)\n",
    "    plt.show()"
   ]
  },
  {
   "cell_type": "code",
   "execution_count": null,
   "metadata": {},
   "outputs": [],
   "source": [
    "plot_silhouette(data = datos_prep_norm, \n",
    "                labels = kmeans.labels_, \n",
    "                ylabel = 'Modelo de dos Agrupaciones')"
   ]
  },
  {
   "cell_type": "markdown",
   "metadata": {},
   "source": [
    "## 5. Análisis y conclusiones"
   ]
  },
  {
   "cell_type": "markdown",
   "metadata": {},
   "source": []
  },
  {
   "cell_type": "code",
   "execution_count": 613,
   "metadata": {},
   "outputs": [],
   "source": [
    "name_cols = ['KTAS_experto', 'EWS' ,'dolor_NRS']\n",
    "datos_cols_selec = datos[name_cols].copy()"
   ]
  },
  {
   "cell_type": "code",
   "execution_count": null,
   "metadata": {},
   "outputs": [],
   "source": [
    "import numpy as np\n",
    "import matplotlib.pyplot as plt\n",
    "from sklearn.cluster import DBSCAN\n",
    "from sklearn.preprocessing import StandardScaler\n",
    "\n",
    "def plot_dbscan_eps(data, eps_min=0.1, eps_max=2.0, step=0.1, min_samples=5):\n",
    "    '''\n",
    "    Graficar el número de clústeres y ruido vs. eps en DBSCAN\n",
    "    \n",
    "    Parámetros\n",
    "    ----------\n",
    "    data : np.array\n",
    "        El arreglo con los datos\n",
    "    eps_min : float\n",
    "        Valor mínimo para eps\n",
    "    eps_max : float\n",
    "        Valor máximo para eps\n",
    "    step : float\n",
    "        El incremento de eps en cada iteración\n",
    "    min_samples : int\n",
    "        Número mínimo de muestras para ser un punto central\n",
    "    '''\n",
    "    eps_values = np.arange(eps_min, eps_max, step)\n",
    "    n_clusters = []\n",
    "    n_noises = []\n",
    "\n",
    "    for eps in eps_values:\n",
    "        db = DBSCAN(eps=eps, min_samples=min_samples)\n",
    "        db.fit(data)\n",
    "        \n",
    "        labels = db.labels_\n",
    "        # Número de clústeres (excluyendo el ruido, que es etiquetado como -1)\n",
    "        n_clusters.append(len(set(labels)) - (1 if -1 in labels else 0))\n",
    "        # Contar cuántos puntos fueron etiquetados como ruido (-1)\n",
    "        n_noises.append(list(labels).count(-1))\n",
    "    \n",
    "    # Graficar el número de clústeres y puntos de ruido\n",
    "    fig, ax1 = plt.subplots()\n",
    "\n",
    "    color = 'tab:blue'\n",
    "    ax1.set_xlabel('Eps')\n",
    "    ax1.set_ylabel('Número de Clústeres', color=color)\n",
    "    ax1.plot(eps_values, n_clusters, marker='o', color=color, label='Número de Clústeres')\n",
    "    ax1.tick_params(axis='y', labelcolor=color)\n",
    "    \n",
    "    ax2 = ax1.twinx()\n",
    "    color = 'tab:red'\n",
    "    ax2.set_ylabel('Número de Puntos de Ruido', color=color)\n",
    "    ax2.plot(eps_values, n_noises, marker='x', color=color, label='Número de Ruido')\n",
    "    ax2.tick_params(axis='y', labelcolor=color)\n",
    "\n",
    "    fig.tight_layout()\n",
    "    plt.title('Número de Clústeres y Ruido vs. Eps')\n",
    "    plt.show()\n",
    "\n",
    "scaler = StandardScaler()\n",
    "df_scaled = scaler.fit_transform(datos_cols_selec)\n",
    "plot_dbscan_eps(df_scaled, eps_min=0.1, eps_max=2, step=0.1, min_samples=10)\n"
   ]
  },
  {
   "cell_type": "code",
   "execution_count": 615,
   "metadata": {},
   "outputs": [],
   "source": [
    "from sklearn.preprocessing import StandardScaler\n",
    "import pandas as pd\n",
    "from sklearn.cluster import DBSCAN\n",
    "import matplotlib.pyplot as plt\n",
    "\n",
    "# Escalar los datos para normalizar distancias (recomendado para DBSCAN)\n",
    "scaler = StandardScaler()\n",
    "df_scaled = scaler.fit_transform(datos_cols_selec)\n"
   ]
  },
  {
   "cell_type": "code",
   "execution_count": null,
   "metadata": {},
   "outputs": [],
   "source": [
    "\n",
    "# Crear el modelo DBSCAN con los parámetros: eps y min_samples\n",
    "dbscan = DBSCAN(eps=1, min_samples=10)\n",
    "\n",
    "# Ajustar el modelo a los datos escalados\n",
    "dbscan.fit(datos_cols_selec)\n",
    "\n",
    "print(pd.DataFrame(dbscan.labels_).value_counts())"
   ]
  },
  {
   "cell_type": "code",
   "execution_count": null,
   "metadata": {},
   "outputs": [],
   "source": [
    "\n",
    "# Agregar las etiquetas al DataFrame\n",
    "datos_cols_selec['cluster'] = dbscan.labels_\n",
    "\n",
    "# Mostrar los resultados\n",
    "print(datos_cols_selec['cluster'].value_counts())\n"
   ]
  },
  {
   "cell_type": "code",
   "execution_count": null,
   "metadata": {},
   "outputs": [],
   "source": [
    "sns.pairplot(data=datos_cols_selec, hue=\"cluster\", palette=\"Dark2\")"
   ]
  },
  {
   "cell_type": "code",
   "execution_count": null,
   "metadata": {},
   "outputs": [],
   "source": [
    "plot_silhouette(data = datos_cols_selec, \n",
    "                labels = dbscan.labels_, \n",
    "                ylabel = 'Modelo de dos Agrupaciones')"
   ]
  },
  {
   "cell_type": "code",
   "execution_count": 691,
   "metadata": {},
   "outputs": [],
   "source": [
    "name_cols = [ \"Grupo\", \n",
    "              \"Disposicion\",\n",
    "              \"KTAS_experto\",\n",
    "              \"EWS\",\n",
    "              \"dolor_NRS\"]\n",
    "name_cols = ['KTAS_experto', 'dolor_NRS', 'EWS']\n",
    "datos_cols_selec = datos[name_cols].copy()\n"
   ]
  },
  {
   "cell_type": "code",
   "execution_count": null,
   "metadata": {},
   "outputs": [],
   "source": [
    "mms = MinMaxScaler()\n",
    "\n",
    "\n",
    "datos_prep_norm = datos_cols_selec.copy()\n",
    "datos_prep_norm[name_cols] = mms.fit_transform(datos_cols_selec[name_cols])\n",
    "datos_prep_norm=datos_prep_norm[name_cols]\n",
    "saved_cols = datos_prep_norm.columns\n",
    "\n",
    "datos_prep_norm = pd.DataFrame(datos_prep_norm, columns =saved_cols)\n",
    "print(datos_prep_norm.head())"
   ]
  },
  {
   "cell_type": "code",
   "execution_count": 693,
   "metadata": {},
   "outputs": [],
   "source": [
    "import numpy as np\n",
    "import matplotlib.pyplot as plt\n",
    "from sklearn.cluster import AgglomerativeClustering\n",
    "\n",
    "def plot_agglomerative_clusters(data, k_min=2, k_max=10, linkage_method='ward'):\n",
    "    '''\n",
    "    Graficar el número de clústeres usando Agglomerative Clustering\n",
    "    \n",
    "    Parámetros\n",
    "    ----------\n",
    "    data : np.array\n",
    "        El arreglo con los datos\n",
    "    k_min : int\n",
    "        Valor mínimo para n_clusters\n",
    "    k_max : int\n",
    "        Valor máximo para n_clusters\n",
    "    linkage_method : string\n",
    "        El método de linkage que debe usar (ward, single, complete, average)\n",
    "    '''\n",
    "    cluster_counts = []\n",
    "    \n",
    "    for n_clusters in range(k_min, k_max + 1):\n",
    "        # Crear el modelo de Agglomerative Clustering\n",
    "        agg_clustering = AgglomerativeClustering(n_clusters=n_clusters, linkage=linkage_method)\n",
    "        \n",
    "        # Ajustar el modelo a los datos\n",
    "        agg_clustering.fit(data)\n",
    "        # Almacenar el número de clústeres formados\n",
    "        cluster_counts.append(silhouette_score(data, agg_clustering.labels_))\n",
    "    \n",
    "    # Graficar el número de clústeres\n",
    "    plt.plot(range(k_min, k_max + 1), cluster_counts, marker='o')\n",
    "    plt.xlabel('Número de Clústeres (k)')\n",
    "    plt.ylabel('Silueta')\n",
    "    plt.title(f'Agglomerative Clustering con {linkage_method.capitalize()} Linkage')\n",
    "    plt.show()\n"
   ]
  },
  {
   "cell_type": "code",
   "execution_count": null,
   "metadata": {},
   "outputs": [],
   "source": [
    "\n",
    "# Usar la función para graficar el número de clústeres formados\n",
    "plot_agglomerative_clusters(datos_prep_norm, k_min=2, k_max=6, linkage_method='ward')\n"
   ]
  },
  {
   "cell_type": "code",
   "execution_count": null,
   "metadata": {},
   "outputs": [],
   "source": [
    "plot_agglomerative_clusters(datos_prep_norm, k_min=2, k_max=6, linkage_method='complete')\n"
   ]
  },
  {
   "cell_type": "code",
   "execution_count": null,
   "metadata": {},
   "outputs": [],
   "source": [
    "plot_agglomerative_clusters(datos_prep_norm, k_min=2, k_max=6, linkage_method='average')\n"
   ]
  },
  {
   "cell_type": "code",
   "execution_count": null,
   "metadata": {},
   "outputs": [],
   "source": [
    "plot_agglomerative_clusters(datos_prep_norm, k_min=2, k_max=6, linkage_method='single')\n"
   ]
  },
  {
   "cell_type": "code",
   "execution_count": null,
   "metadata": {},
   "outputs": [],
   "source": [
    "agg_clustering = AgglomerativeClustering(n_clusters=3, linkage='ward')\n",
    "        \n",
    "# Ajustar el modelo a los datos\n",
    "agg_clustering.fit(datos_prep_norm)\n",
    "\n"
   ]
  },
  {
   "cell_type": "code",
   "execution_count": null,
   "metadata": {},
   "outputs": [],
   "source": [
    "# Agregar las etiquetas al DataFrame\n",
    "datos_prep_norm['cluster'] = agg_clustering.labels_\n",
    "\n",
    "# Mostrar los resultados\n",
    "print(datos_prep_norm['cluster'].value_counts())"
   ]
  },
  {
   "cell_type": "code",
   "execution_count": null,
   "metadata": {},
   "outputs": [],
   "source": [
    "sns.pairplot(data=datos_prep_norm, hue=\"cluster\", palette=\"Dark2\")"
   ]
  },
  {
   "cell_type": "code",
   "execution_count": null,
   "metadata": {},
   "outputs": [],
   "source": [
    "silhouette_avg = silhouette_score(datos_prep_norm, labels)\n",
    "print(f\"Silhouette Score: {silhouette_avg}\")"
   ]
  },
  {
   "cell_type": "code",
   "execution_count": null,
   "metadata": {},
   "outputs": [],
   "source": [
    "plot_silhouette(data = datos_prep_norm, \n",
    "                labels = agg_clustering.labels_, \n",
    "                ylabel = 'Modelo de dos Agrupaciones')"
   ]
  }
 ],
 "metadata": {
  "kernelspec": {
   "display_name": "base",
   "language": "python",
   "name": "python3"
  },
  "language_info": {
   "codemirror_mode": {
    "name": "ipython",
    "version": 3
   },
   "file_extension": ".py",
   "mimetype": "text/x-python",
   "name": "python",
   "nbconvert_exporter": "python",
   "pygments_lexer": "ipython3",
   "version": "3.12.3"
  }
 },
 "nbformat": 4,
 "nbformat_minor": 2
}
