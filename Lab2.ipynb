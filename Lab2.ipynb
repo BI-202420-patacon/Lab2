{
 "cells": [
  {
   "cell_type": "markdown",
   "metadata": {},
   "source": [
    "## Los datos\n",
    "- Grupo\n",
    "- Sexo\n",
    "- Edad\n",
    "- Modo_Llegada\n",
    "- Lesión\n",
    "- Queja_Principal\n",
    "- Estado_Mental\n",
    "- Dolor\n",
    "- Dolor_NRS\n",
    "- SBP\n",
    "- DBP\n",
    "- HR\n",
    "- RR\n",
    "- BT\n",
    "- Saturación\n",
    "- KTAS_Enfermera\n",
    "- Diagnóstico_Urgencias\n",
    "- Disposición\n",
    "- KTAS_Experto\n",
    "- Grupo_Error\n",
    "- Duración_Estancia_Min\n",
    "- Duración_KTAS_Min\n",
    "- Error_Triaje\n"
   ]
  },
  {
   "cell_type": "code",
   "execution_count": 146,
   "metadata": {},
   "outputs": [],
   "source": [
    "import pandas as pd\n",
    "import numpy as np\n",
    "import matplotlib.pyplot as plt\n",
    "import seaborn as sns; sns.set()  # for plot styling\n",
    "\n",
    "from sklearn.preprocessing import StandardScaler\n",
    "from sklearn.cluster import KMeans\n",
    "from sklearn.metrics import silhouette_samples, silhouette_score\n",
    "from sklearn.preprocessing import MinMaxScaler\n",
    "\n",
    "from matplotlib import cm\n",
    "from mpl_toolkits.mplot3d import Axes3D # for 3D plots"
   ]
  },
  {
   "cell_type": "markdown",
   "metadata": {},
   "source": [
    "### 1. Cargar los datos"
   ]
  },
  {
   "cell_type": "code",
   "execution_count": 147,
   "metadata": {},
   "outputs": [],
   "source": [
    "datos=pd.read_csv('./data/202420_Laboratorio 2 - Agrupación_202420_Laboratorio_2_-_Agrupación_data.csv', sep=',', encoding = 'utf-8', index_col=0)"
   ]
  },
  {
   "cell_type": "code",
   "execution_count": null,
   "metadata": {},
   "outputs": [],
   "source": [
    "datos.shape"
   ]
  },
  {
   "cell_type": "code",
   "execution_count": null,
   "metadata": {},
   "outputs": [],
   "source": [
    "datos.dtypes"
   ]
  },
  {
   "cell_type": "code",
   "execution_count": null,
   "metadata": {},
   "outputs": [],
   "source": [
    "datos.sample(5)"
   ]
  },
  {
   "cell_type": "markdown",
   "metadata": {},
   "source": [
    "### 2. Entendimiento de los datos"
   ]
  },
  {
   "cell_type": "code",
   "execution_count": null,
   "metadata": {},
   "outputs": [],
   "source": [
    "datos.info()"
   ]
  },
  {
   "cell_type": "code",
   "execution_count": null,
   "metadata": {},
   "outputs": [],
   "source": [
    "datos.describe()"
   ]
  },
  {
   "cell_type": "code",
   "execution_count": null,
   "metadata": {},
   "outputs": [],
   "source": [
    "def calcularEWS(registro):\n",
    "    total = 0\n",
    "    \n",
    "    # Frecuencia respiratoria (RR)\n",
    "    if registro['RR'] <= 8:\n",
    "        total += 2\n",
    "    elif 9 <= registro['RR'] <= 14:\n",
    "        total += 0\n",
    "    elif 15 <= registro['RR'] <= 20:\n",
    "        total += 1\n",
    "    elif 21 <= registro['RR'] <= 29:\n",
    "        total += 2\n",
    "    elif registro['RR'] >= 30:\n",
    "        total += 3\n",
    "    \n",
    "    # Presión arterial sistólica (SBP)\n",
    "    if registro['SBP'] <= 70:\n",
    "        total += 3\n",
    "    elif 71 <= registro['SBP'] <= 80:\n",
    "        total += 2\n",
    "    elif 81 <= registro['SBP'] <= 100:\n",
    "        total += 1\n",
    "    elif 101 <= registro['SBP'] <= 199:\n",
    "        total += 0\n",
    "    elif registro['SBP'] >= 200:\n",
    "        total += 2\n",
    "\n",
    "    # Frecuencia cardíaca (HR)\n",
    "    if registro['HR'] <= 40:\n",
    "        total += 2\n",
    "    elif 41 <= registro['HR'] <= 50:\n",
    "        total += 1\n",
    "    elif 51 <= registro['HR'] <= 100:\n",
    "        total += 0\n",
    "    elif 101 <= registro['HR'] <= 110:\n",
    "        total += 1\n",
    "    elif 111 <= registro['HR'] <= 129:\n",
    "        total += 2\n",
    "    elif registro['HR'] >= 130:\n",
    "        total += 3\n",
    "\n",
    "    # Temperatura corporal (BT)\n",
    "    if registro['BT'] < 35.0:\n",
    "        total += 2\n",
    "    elif 35.0 <= registro['BT'] <= 38.4:\n",
    "        total += 0\n",
    "    elif 38.5 <= registro['BT']:\n",
    "        total += 2\n",
    "\n",
    "    # Saturación de oxígeno (Saturacion)\n",
    "    if registro['Saturacion'] <= 91:\n",
    "        total += 3\n",
    "    elif 92 <= registro['Saturacion'] <= 93:\n",
    "        total += 2\n",
    "    elif 94 <= registro['Saturacion'] <= 95:\n",
    "        total += 1\n",
    "\n",
    "    # Nivel de conciencia\n",
    "    if registro['Estado_Mental'] == 1:\n",
    "        total += 0\n",
    "    elif registro['Estado_Mental'] == 2:\n",
    "        total += 1\n",
    "    elif registro['Estado_Mental'] == 3:\n",
    "        total += 2\n",
    "    elif registro['Estado_Mental'] == 4:\n",
    "        total += 3\n",
    "    return total\n",
    "\n",
    "datos['EWS'] = datos.apply(calcularEWS, axis=1)\n",
    "print(datos.head())"
   ]
  },
  {
   "cell_type": "code",
   "execution_count": null,
   "metadata": {},
   "outputs": [],
   "source": [
    "#Visualización de todas las variables numéricas\n",
    "fig=plt.figure(figsize=(20,8))\n",
    "ax = sns.boxplot(data=datos, orient=\"v\")"
   ]
  },
  {
   "cell_type": "code",
   "execution_count": null,
   "metadata": {},
   "outputs": [],
   "source": [
    "name_cols_float = datos.select_dtypes(include = ['float']).columns\n",
    "name_cols_int = datos.select_dtypes(include = ['int64']).columns\n",
    "name_cols_int"
   ]
  },
  {
   "cell_type": "code",
   "execution_count": null,
   "metadata": {},
   "outputs": [],
   "source": [
    "fig=plt.figure(figsize=(20,8))\n",
    "ax = sns.boxplot(data=datos[name_cols_float], orient=\"v\")"
   ]
  },
  {
   "cell_type": "code",
   "execution_count": null,
   "metadata": {},
   "outputs": [],
   "source": [
    "fig=plt.figure(figsize=(20,8))\n",
    "ax = sns.boxplot(data=datos[name_cols_int], orient=\"v\")"
   ]
  },
  {
   "cell_type": "code",
   "execution_count": null,
   "metadata": {},
   "outputs": [],
   "source": [
    "name_cols_non_number = datos.select_dtypes(include = ['object']).columns\n",
    "name_cols_non_number"
   ]
  },
  {
   "cell_type": "code",
   "execution_count": null,
   "metadata": {},
   "outputs": [],
   "source": [
    "datos.Queja_Principal.sample(10)"
   ]
  },
  {
   "cell_type": "code",
   "execution_count": null,
   "metadata": {},
   "outputs": [],
   "source": [
    "datos[name_cols_non_number].describe()"
   ]
  },
  {
   "cell_type": "code",
   "execution_count": null,
   "metadata": {},
   "outputs": [],
   "source": [
    "datos[name_cols_non_number].sample(15)"
   ]
  },
  {
   "cell_type": "markdown",
   "metadata": {},
   "source": [
    "#### Análisis de completitud"
   ]
  },
  {
   "cell_type": "code",
   "execution_count": null,
   "metadata": {},
   "outputs": [],
   "source": [
    "datos.isnull().sum() / datos.shape[0]"
   ]
  },
  {
   "cell_type": "markdown",
   "metadata": {},
   "source": [
    "### 3. Preparación de datos"
   ]
  },
  {
   "cell_type": "code",
   "execution_count": 163,
   "metadata": {},
   "outputs": [],
   "source": [
    "datos=datos[datos[\"Duracion_Estancia_Min\"]<=850]"
   ]
  },
  {
   "cell_type": "code",
   "execution_count": null,
   "metadata": {},
   "outputs": [],
   "source": [
    "fig=plt.figure(figsize=(20,8))\n",
    "ax = sns.boxplot(data=datos[name_cols_int], orient=\"v\")"
   ]
  },
  {
   "cell_type": "code",
   "execution_count": null,
   "metadata": {},
   "outputs": [],
   "source": [
    "name_cols = ['KTAS_experto', 'Estado_Mental' ,'dolor_NRS']\n",
    "datos_cols_selec = datos[name_cols].copy()\n",
    "datos_cols_selec['dolor_NRS'] = pd.to_numeric(datos_cols_selec['dolor_NRS'], errors='coerce')\n",
    "datos_cols_selec = datos_cols_selec.dropna(subset=['dolor_NRS'])\n",
    "datos_cols_selec = datos_cols_selec.reset_index(drop=True)\n",
    "print(datos_cols_selec.head())\n",
    "sns.pairplot(datos_cols_selec, height=3,kind='scatter')"
   ]
  },
  {
   "cell_type": "code",
   "execution_count": null,
   "metadata": {},
   "outputs": [],
   "source": [
    "fig=plt.figure(figsize=(20,10))\n",
    "ax = sns.boxplot(data=datos_cols_selec, orient=\"v\")"
   ]
  },
  {
   "cell_type": "code",
   "execution_count": null,
   "metadata": {},
   "outputs": [],
   "source": [
    "sns.pairplot(data=datos_cols_selec, hue=\"dolor_NRS\")"
   ]
  },
  {
   "cell_type": "code",
   "execution_count": null,
   "metadata": {},
   "outputs": [],
   "source": [
    "mms = MinMaxScaler()\n",
    "\n",
    "\n",
    "datos_prep_norm = datos_cols_selec.copy()\n",
    "datos_prep_norm[name_cols] = mms.fit_transform(datos_cols_selec[name_cols])\n",
    "datos_prep_norm=datos_prep_norm[name_cols]\n",
    "saved_cols = datos_prep_norm.columns\n",
    "\n",
    "datos_prep_norm = pd.DataFrame(datos_prep_norm, columns =saved_cols)\n",
    "print(datos_prep_norm.head())"
   ]
  },
  {
   "cell_type": "code",
   "execution_count": null,
   "metadata": {},
   "outputs": [],
   "source": [
    "datos_prep_norm.describe()"
   ]
  },
  {
   "cell_type": "code",
   "execution_count": 185,
   "metadata": {},
   "outputs": [],
   "source": [
    "def plot_distortion(data,\n",
    "                    k_min=1, \n",
    "                    k_max=11,\n",
    "                    ylabel = 'Distortion',\n",
    "                    xlabel = 'Number of clusters',\n",
    "                    title = 'Distortion Plot'):\n",
    "    '''\n",
    "    Graficar el codo de los clusters\n",
    "    \n",
    "    Parametros\n",
    "    ----------\n",
    "    data : np.array\n",
    "        El arreglo con los datos\n",
    "    k_min : int\n",
    "        Valor mínimo para k\n",
    "    k_max : int\n",
    "        Valor máximo para k\n",
    "    xlabel : string\n",
    "        La etiqueta del eje x\n",
    "    ylabel  string\n",
    "        La etiqueta del eje y    \n",
    "    title : string\n",
    "        El titulo de la gráfica  \n",
    "    '''\n",
    "    distortions = []\n",
    "    for i in range(k_min, k_max):\n",
    "        km = KMeans(n_clusters=i,\n",
    "                 init='k-means++',\n",
    "                 n_init=10,\n",
    "                 max_iter=300,\n",
    "                 random_state=0)\n",
    "        km.fit(data)\n",
    "        distortions.append(km.inertia_)\n",
    "    plt.plot(range(k_min,k_max), distortions, marker='o')\n",
    "    plt.xlabel(xlabel)\n",
    "    plt.ylabel(ylabel)\n",
    "    plt.show()"
   ]
  },
  {
   "cell_type": "code",
   "execution_count": null,
   "metadata": {},
   "outputs": [],
   "source": [
    "plot_distortion(datos_prep_norm,1,11)"
   ]
  },
  {
   "cell_type": "code",
   "execution_count": null,
   "metadata": {},
   "outputs": [],
   "source": [
    "N_clusters=3\n",
    "kmeans = KMeans(n_clusters=N_clusters, random_state=0) \n",
    "kmeans = kmeans.fit(datos_prep_norm)"
   ]
  },
  {
   "cell_type": "code",
   "execution_count": null,
   "metadata": {},
   "outputs": [],
   "source": [
    "labels = kmeans.labels_\n",
    "datos_prep_norm['Cluster'] = labels\n",
    "\n",
    "cluster_distrib = datos_prep_norm['Cluster'].value_counts()\n",
    "\n",
    "fig=plt.figure(figsize=(12,8))\n",
    "sns.barplot(x=cluster_distrib.index, y=cluster_distrib.values, color='b')"
   ]
  },
  {
   "cell_type": "code",
   "execution_count": null,
   "metadata": {},
   "outputs": [],
   "source": [
    "cols_number = datos_prep_norm.to_numpy()\n",
    "datos_prep_norm.groupby('Cluster').count()"
   ]
  },
  {
   "cell_type": "code",
   "execution_count": null,
   "metadata": {},
   "outputs": [],
   "source": [
    "plt.scatter(cols_number[kmeans.labels_ == 0, 0], cols_number[kmeans.labels_ == 0, 1], s = 100, marker='v', c = 'red', label = 'Cluster 1')\n",
    "plt.scatter(cols_number[kmeans.labels_ == 1, 0], cols_number[kmeans.labels_ == 1, 1], s = 100, marker='o', c = 'blue', label = 'Cluster 2')\n",
    "plt.scatter(cols_number[kmeans.labels_ == 2, 0], cols_number[kmeans.labels_ == 2, 1], s = 100, marker='*', c = 'green', label = 'Cluster 3')\n",
    "\n",
    "plt.scatter(kmeans.cluster_centers_[:, 0], kmeans.cluster_centers_[:, 1], s = 100, c = 'yellow', label = 'Centroids')\n",
    "plt.title('Clusters')\n",
    "plt.xlabel(name_cols[0])\n",
    "plt.ylabel(name_cols[1])\n",
    "plt.legend()\n",
    "plt.show()"
   ]
  },
  {
   "cell_type": "code",
   "execution_count": 192,
   "metadata": {},
   "outputs": [],
   "source": [
    "def plot_silhouette(data, \n",
    "                    labels,\n",
    "                   ylabel = 'Grupos',\n",
    "                   xlabel = \"Coeficiente de silueta\",\n",
    "                   title = 'Gráfica de silueta'):\n",
    "    '''\n",
    "    Graficar la silueta de los clusters\n",
    "    \n",
    "    Parametros\n",
    "    ----------\n",
    "    data : np.array\n",
    "        El arreglo con los datos\n",
    "    labels : np.array\n",
    "        El arreglo con las etiquetas correspondientes\n",
    "    ylabel  string\n",
    "        La etiqueta del eje y\n",
    "    xlabel : string\n",
    "        La etiqueta del eje x\n",
    "    title : string\n",
    "        El titulo de la gráfica        \n",
    "    '''\n",
    "    cluster_labels = np.unique(labels)\n",
    "    print(cluster_labels)\n",
    "    n_clusters = cluster_labels.shape[0]\n",
    "    silhouette_vals = silhouette_samples(data,\n",
    "                                        labels,\n",
    "                                        metric='euclidean')\n",
    "    y_ax_lower, y_ax_upper = 0, 0\n",
    "    yticks = []\n",
    "    for i, c in enumerate(cluster_labels):\n",
    "        c_silhouette_vals = silhouette_vals[labels == c]\n",
    "        c_silhouette_vals.sort()\n",
    "        y_ax_upper += len(c_silhouette_vals)\n",
    "        color = cm.jet(float(i) / n_clusters)\n",
    "        plt.barh(range(y_ax_lower, y_ax_upper),\n",
    "                        c_silhouette_vals,\n",
    "                        height=1.0,\n",
    "                        edgecolor='none',\n",
    "                        color=color)\n",
    "        yticks.append((y_ax_lower + y_ax_upper) / 2.)\n",
    "        y_ax_lower += len(c_silhouette_vals)\n",
    "    silhouette_avg = np.mean(silhouette_vals)\n",
    "    plt.axvline(silhouette_avg,\n",
    "                color=\"red\",\n",
    "                linestyle=\"--\")\n",
    "    plt.yticks(yticks, cluster_labels+1)\n",
    "    plt.ylabel(ylabel)\n",
    "    plt.xlabel(xlabel)\n",
    "    plt.title(title)\n",
    "    plt.show()"
   ]
  },
  {
   "cell_type": "code",
   "execution_count": null,
   "metadata": {},
   "outputs": [],
   "source": [
    "plot_silhouette(data = datos_prep_norm, \n",
    "                labels = kmeans.labels_, \n",
    "                ylabel = 'Modelo de dos Agrupaciones')"
   ]
  },
  {
   "cell_type": "code",
   "execution_count": null,
   "metadata": {},
   "outputs": [],
   "source": []
  }
 ],
 "metadata": {
  "kernelspec": {
   "display_name": "base",
   "language": "python",
   "name": "python3"
  },
  "language_info": {
   "codemirror_mode": {
    "name": "ipython",
    "version": 3
   },
   "file_extension": ".py",
   "mimetype": "text/x-python",
   "name": "python",
   "nbconvert_exporter": "python",
   "pygments_lexer": "ipython3",
   "version": "3.12.4"
  }
 },
 "nbformat": 4,
 "nbformat_minor": 2
}
